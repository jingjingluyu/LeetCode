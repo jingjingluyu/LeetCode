{
 "cells": [
  {
   "cell_type": "markdown",
   "metadata": {},
   "source": [
    "# EASY\n",
    "## 1. Two Sum\n",
    "### 一、涉及到的概念 \n",
    "#### 1.1 引用的概念\n",
    "定义引用时一定要将其初始化，通常用某个变量去初始化引用，不能用常量初始化引用，也不能用表达式初始化引用。\n",
    "```c++\n",
    "int n=4;\n",
    "int & r = n;  // r就是一个引用，r的类型是 int &\n",
    "```\n",
    "***\n",
    "#### 1.2 引用作为函数返回值 \n",
    "SetValue 函数的返回值是一个引用，是int & 类型的。返回对n的引用个，因此对SetValue函数的返回值进行赋值，就是对n进行赋值。\n",
    "```c++\n",
    "int & SetValue()\n",
    "{\n",
    "    return n;\n",
    "}\n",
    "int main()\n",
    "{\n",
    "    SetValue()=40;\n",
    "    cout<<n<<endl;   // 40\n",
    "}\n",
    "```\n",
    "***\n",
    "#### 1.3 参数传值\n",
    "函数参数的传递有两种方式：传值和传引用。在函数的形参不是引用的情况下，参数传递方式是传值。传引用的方式要求函数的形参是引用。\n",
    "***\n",
    "#### 1.4 参数传引用\n",
    "函数的形参是引用，参数的传递方式就是传引用的。在传引用方式下，形参是对应的实参的引用。也就是形参和对应的实参是一回事，形参的改变会影响实参。\n",
    "```c++\n",
    "void Swap(int & a,int & b)  // a引用了n1，b引用了n2，a、b的值的改变会导致n1、n2值的改变。\n",
    "{\n",
    "    int tmp;\n",
    "    tmp=a;a=b;b=tmp;\n",
    "}\n",
    "int main()\n",
    "{\n",
    "    int n1=100,n2=50;\n",
    "    Swap(n1,n2);\n",
    "}\n",
    "```\n",
    "***\n",
    "#### 1.5 序列容器之vector 常见用法总结\n",
    "vector是一个动态的序列容器，相当于一个size可变的数组。\n",
    "\n",
    "相比于数组，vector会消耗更多的内存以有效的动态增长。vector能更快的索引元素（就像数组一样），而且能相对高效的在尾部插入和删除元素。\n",
    "\n",
    "当需要使用vector的时候，需要包含头文件：#include<vector>，一般加上using namespace std;\n",
    "如果不加，则在调用时候必须用std::vector<...>这样的形式，即在vector前加上std::，这表示运用的是std命名空间下的vector容器。\n",
    "\n",
    "* a.push_back(1); 在尾部加入一个数据\n",
    "* a.pop_back( ); 删除最后一个数据"
   ]
  },
  {
   "cell_type": "markdown",
   "metadata": {},
   "source": [
    "### 二、程序分析 "
   ]
  },
  {
   "cell_type": "markdown",
   "metadata": {},
   "source": [
    "思路非常简单不进行描述。主要是程序中涉及到的概念需要重新学习。\n",
    "\n",
    "```c++\n",
    "class Solution {\n",
    "public:\n",
    "    vector<int> twoSum(vector<int>& nums, int target) {      \n",
    "                                                    //vector<int>& nums 参数传引用类型为int型的向量\n",
    "        vector<int> a;\n",
    "        for(int i=0;i<nums.size()-1;i++)            // nums.size() 数组的长度。\n",
    "        {\n",
    "            for(int j=i+1;j<nums.size();j++)\n",
    "            {\n",
    "                if(nums[i]+nums[j]==target)\n",
    "                {\n",
    "                    a.push_back(i);\n",
    "                    a.push_back(j);\n",
    "                }\n",
    "            }\n",
    "        }\n",
    "        return a;\n",
    "    }\n",
    "};\n",
    "```"
   ]
  }
 ],
 "metadata": {
  "kernelspec": {
   "display_name": "Python 3",
   "language": "python",
   "name": "python3"
  },
  "language_info": {
   "codemirror_mode": {
    "name": "ipython",
    "version": 3
   },
   "file_extension": ".py",
   "mimetype": "text/x-python",
   "name": "python",
   "nbconvert_exporter": "python",
   "pygments_lexer": "ipython3",
   "version": "3.6.1"
  }
 },
 "nbformat": 4,
 "nbformat_minor": 2
}
